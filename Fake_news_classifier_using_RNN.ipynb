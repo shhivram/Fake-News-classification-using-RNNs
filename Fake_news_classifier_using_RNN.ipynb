{
  "nbformat": 4,
  "nbformat_minor": 0,
  "metadata": {
    "colab": {
      "name": "Fake news classifier using RNNs.ipynb",
      "provenance": [],
      "collapsed_sections": []
    },
    "kernelspec": {
      "name": "python3",
      "display_name": "Python 3"
    },
    "accelerator": "GPU"
  },
  "cells": [
    {
      "cell_type": "code",
      "metadata": {
        "id": "9EgXKBHFDMqi"
      },
      "source": [
        "from google.colab import drive"
      ],
      "execution_count": 1,
      "outputs": []
    },
    {
      "cell_type": "code",
      "metadata": {
        "id": "2VSlgcucDUy9"
      },
      "source": [
        "import pandas as pd\r\n",
        "import numpy as np\r\n",
        "import matplotlib.pyplot as plt\r\n",
        "import seaborn as sns"
      ],
      "execution_count": 9,
      "outputs": []
    },
    {
      "cell_type": "code",
      "metadata": {
        "id": "MlUjlV4tEdap"
      },
      "source": [
        "df = pd.read_csv('/content/drive/MyDrive/train.csv')"
      ],
      "execution_count": 10,
      "outputs": []
    },
    {
      "cell_type": "code",
      "metadata": {
        "id": "KC0KuDl5EhRh",
        "colab": {
          "base_uri": "https://localhost:8080/",
          "height": 202
        },
        "outputId": "f2768b47-631b-480b-ea0d-e4a88651c4cf"
      },
      "source": [
        "df.head()"
      ],
      "execution_count": 11,
      "outputs": [
        {
          "output_type": "execute_result",
          "data": {
            "text/html": [
              "<div>\n",
              "<style scoped>\n",
              "    .dataframe tbody tr th:only-of-type {\n",
              "        vertical-align: middle;\n",
              "    }\n",
              "\n",
              "    .dataframe tbody tr th {\n",
              "        vertical-align: top;\n",
              "    }\n",
              "\n",
              "    .dataframe thead th {\n",
              "        text-align: right;\n",
              "    }\n",
              "</style>\n",
              "<table border=\"1\" class=\"dataframe\">\n",
              "  <thead>\n",
              "    <tr style=\"text-align: right;\">\n",
              "      <th></th>\n",
              "      <th>id</th>\n",
              "      <th>title</th>\n",
              "      <th>author</th>\n",
              "      <th>text</th>\n",
              "      <th>label</th>\n",
              "    </tr>\n",
              "  </thead>\n",
              "  <tbody>\n",
              "    <tr>\n",
              "      <th>0</th>\n",
              "      <td>0</td>\n",
              "      <td>House Dem Aide: We Didn’t Even See Comey’s Let...</td>\n",
              "      <td>Darrell Lucus</td>\n",
              "      <td>House Dem Aide: We Didn’t Even See Comey’s Let...</td>\n",
              "      <td>1</td>\n",
              "    </tr>\n",
              "    <tr>\n",
              "      <th>1</th>\n",
              "      <td>1</td>\n",
              "      <td>FLYNN: Hillary Clinton, Big Woman on Campus - ...</td>\n",
              "      <td>Daniel J. Flynn</td>\n",
              "      <td>Ever get the feeling your life circles the rou...</td>\n",
              "      <td>0</td>\n",
              "    </tr>\n",
              "    <tr>\n",
              "      <th>2</th>\n",
              "      <td>2</td>\n",
              "      <td>Why the Truth Might Get You Fired</td>\n",
              "      <td>Consortiumnews.com</td>\n",
              "      <td>Why the Truth Might Get You Fired October 29, ...</td>\n",
              "      <td>1</td>\n",
              "    </tr>\n",
              "    <tr>\n",
              "      <th>3</th>\n",
              "      <td>3</td>\n",
              "      <td>15 Civilians Killed In Single US Airstrike Hav...</td>\n",
              "      <td>Jessica Purkiss</td>\n",
              "      <td>Videos 15 Civilians Killed In Single US Airstr...</td>\n",
              "      <td>1</td>\n",
              "    </tr>\n",
              "    <tr>\n",
              "      <th>4</th>\n",
              "      <td>4</td>\n",
              "      <td>Iranian woman jailed for fictional unpublished...</td>\n",
              "      <td>Howard Portnoy</td>\n",
              "      <td>Print \\nAn Iranian woman has been sentenced to...</td>\n",
              "      <td>1</td>\n",
              "    </tr>\n",
              "  </tbody>\n",
              "</table>\n",
              "</div>"
            ],
            "text/plain": [
              "   id  ... label\n",
              "0   0  ...     1\n",
              "1   1  ...     0\n",
              "2   2  ...     1\n",
              "3   3  ...     1\n",
              "4   4  ...     1\n",
              "\n",
              "[5 rows x 5 columns]"
            ]
          },
          "metadata": {
            "tags": []
          },
          "execution_count": 11
        }
      ]
    },
    {
      "cell_type": "code",
      "metadata": {
        "id": "MUROJTofEmFh"
      },
      "source": [
        "df.dropna(inplace= True)"
      ],
      "execution_count": 12,
      "outputs": []
    },
    {
      "cell_type": "code",
      "metadata": {
        "id": "gTmY6wwB4evp",
        "colab": {
          "base_uri": "https://localhost:8080/"
        },
        "outputId": "135d7883-4682-4c37-8f64-f7cdcf549847"
      },
      "source": [
        "df.shape"
      ],
      "execution_count": 13,
      "outputs": [
        {
          "output_type": "execute_result",
          "data": {
            "text/plain": [
              "(18285, 5)"
            ]
          },
          "metadata": {
            "tags": []
          },
          "execution_count": 13
        }
      ]
    },
    {
      "cell_type": "code",
      "metadata": {
        "id": "3gxAIwPv4jQW",
        "colab": {
          "base_uri": "https://localhost:8080/",
          "height": 404
        },
        "outputId": "f7cc2373-bc4a-4771-a4df-b21d40320341"
      },
      "source": [
        "c = df.label.value_counts()*100/df.shape[0]\r\n",
        "plt.figure(figsize = (6,6))\r\n",
        "plt.title(\"Fake Vs Real News in percentages\")\r\n",
        "sns.barplot(x =c, y =c.index, orient = 'h')\r\n",
        "plt.xlabel('News Count in percentage')\r\n",
        "plt.ylabel('New Type')\r\n",
        "plt.grid()\r\n",
        "plt.show()"
      ],
      "execution_count": 14,
      "outputs": [
        {
          "output_type": "display_data",
          "data": {
            "image/png": "[encoded data removed]",
            "text/plain": [
              "<Figure size 432x432 with 1 Axes>"
            ]
          },
          "metadata": {
            "tags": [],
            "needs_background": "light"
          }
        }
      ]
    },
    {
      "cell_type": "code",
      "metadata": {
        "id": "z41gUyN29TYl",
        "colab": {
          "base_uri": "https://localhost:8080/",
          "height": 404
        },
        "outputId": "7c0bb64e-1760-4b39-e3c5-fdee2fb631d2"
      },
      "source": [
        "c = df['author'].value_counts()[df.author.value_counts()> 100]\r\n",
        "#authors with more than 100 news\r\n",
        "import seaborn as sns\r\n",
        "import matplotlib.pyplot as plt\r\n",
        "plt.figure(figsize = (6,6))\r\n",
        "plt.title(\"Authors with more than 100 news\")\r\n",
        "sns.barplot(x =c, y =c.index, orient = 'h')\r\n",
        "plt.xlabel('News count')\r\n",
        "plt.ylabel('Authors')\r\n",
        "plt.grid()\r\n",
        "plt.show()"
      ],
      "execution_count": 15,
      "outputs": [
        {
          "output_type": "display_data",
          "data": {
            "image/png": "[encoded data removed]",
            "text/plain": [
              "<Figure size 432x432 with 1 Axes>"
            ]
          },
          "metadata": {
            "tags": [],
            "needs_background": "light"
          }
        }
      ]
    },
    {
      "cell_type": "code",
      "metadata": {
        "colab": {
          "base_uri": "https://localhost:8080/",
          "height": 404
        },
        "id": "YYsnE2uJ3ZtG",
        "outputId": "64508f0b-0683-4be3-9516-7b8bb977ab25"
      },
      "source": [
        "c = df[df['label'] ==1]['author'].value_counts()[df[df['label'] ==1]['author'].value_counts() >75]\r\n",
        "import seaborn as sns\r\n",
        "import matplotlib.pyplot as plt\r\n",
        "plt.figure(figsize = (6,6))\r\n",
        "plt.title(\"Authors with more than 75 false news\")\r\n",
        "sns.barplot(x =c, y =c.index, orient = 'h')\r\n",
        "plt.xlabel('News count')\r\n",
        "plt.ylabel('Authors')\r\n",
        "plt.grid()\r\n",
        "plt.show()"
      ],
      "execution_count": 26,
      "outputs": [
        {
          "output_type": "display_data",
          "data": {
            "image/png": "[encoded data removed]",
            "text/plain": [
              "<Figure size 432x432 with 1 Axes>"
            ]
          },
          "metadata": {
            "tags": [],
            "needs_background": "light"
          }
        }
      ]
    },
    {
      "cell_type": "code",
      "metadata": {
        "colab": {
          "base_uri": "https://localhost:8080/",
          "height": 404
        },
        "id": "xIxxUVmK5qi2",
        "outputId": "6ad5d719-75a4-41f8-e098-f65874f4a09e"
      },
      "source": [
        "c = df[df['label'] ==0]['author'].value_counts()[df[df['label'] ==0]['author'].value_counts() >75]\r\n",
        "import seaborn as sns\r\n",
        "import matplotlib.pyplot as plt\r\n",
        "plt.figure(figsize = (6,6))\r\n",
        "plt.title(\"Authors with more than 75 true news\")\r\n",
        "sns.barplot(x =c, y =c.index, orient = 'h')\r\n",
        "plt.xlabel('News count')\r\n",
        "plt.ylabel('Authors')\r\n",
        "plt.grid()\r\n",
        "plt.show()"
      ],
      "execution_count": 27,
      "outputs": [
        {
          "output_type": "display_data",
          "data": {
            "image/png": "[encoded data removed]",
            "text/plain": [
              "<Figure size 432x432 with 1 Axes>"
            ]
          },
          "metadata": {
            "tags": [],
            "needs_background": "light"
          }
        }
      ]
    },
    {
      "cell_type": "code",
      "metadata": {
        "id": "KvEIXfHDHpUR"
      },
      "source": [
        "X = df.drop('label', axis =1)\n",
        "y = df['label']"
      ],
      "execution_count": 28,
      "outputs": []
    },
    {
      "cell_type": "code",
      "metadata": {
        "id": "HqXWs5fFIMiF",
        "colab": {
          "base_uri": "https://localhost:8080/"
        },
        "outputId": "117df70a-5f0c-431a-edb1-dbccd558245d"
      },
      "source": [
        "for i in [X,y]:\n",
        "  print(i.shape)"
      ],
      "execution_count": 29,
      "outputs": [
        {
          "output_type": "stream",
          "text": [
            "(18285, 4)\n",
            "(18285,)\n"
          ],
          "name": "stdout"
        }
      ]
    },
    {
      "cell_type": "code",
      "metadata": {
        "id": "xNvO4BjHIfVu"
      },
      "source": [
        "# Performing Word embedding for the titles"
      ],
      "execution_count": 30,
      "outputs": []
    },
    {
      "cell_type": "code",
      "metadata": {
        "id": "QiqxriAvIoXs"
      },
      "source": [
        "from tensorflow.keras.preprocessing.text import one_hot\n",
        "from tensorflow.keras.layers import Embedding\n",
        "from tensorflow.keras.models import Sequential\n",
        "from tensorflow.keras.preprocessing.sequence import pad_sequences\n",
        "from tensorflow.keras.layers import Dense\n",
        "from tensorflow.keras.layers import LSTM"
      ],
      "execution_count": 31,
      "outputs": []
    },
    {
      "cell_type": "code",
      "metadata": {
        "id": "6ocFFAixJVWk",
        "colab": {
          "base_uri": "https://localhost:8080/"
        },
        "outputId": "313f1e9e-73ca-452b-dd43-da7c61103542"
      },
      "source": [
        "import nltk\n",
        "nltk.download('stopwords')\n",
        "nltk.download('wordnet')\n",
        "from nltk.corpus import stopwords"
      ],
      "execution_count": 36,
      "outputs": [
        {
          "output_type": "stream",
          "text": [
            "[nltk_data] Downloading package stopwords to /root/nltk_data...\n",
            "[nltk_data]   Package stopwords is already up-to-date!\n",
            "[nltk_data] Downloading package wordnet to /root/nltk_data...\n",
            "[nltk_data]   Unzipping corpora/wordnet.zip.\n"
          ],
          "name": "stdout"
        }
      ]
    },
    {
      "cell_type": "code",
      "metadata": {
        "id": "4hTvfhFUZRp1"
      },
      "source": [
        "import re"
      ],
      "execution_count": 37,
      "outputs": []
    },
    {
      "cell_type": "code",
      "metadata": {
        "id": "AtebUD0VZZyI"
      },
      "source": [
        "data = X.copy()"
      ],
      "execution_count": 38,
      "outputs": []
    },
    {
      "cell_type": "code",
      "metadata": {
        "id": "X_7lvjpgZTqE"
      },
      "source": [
        "# Preprocessing the data \n",
        "from nltk.stem import WordNetLemmatizer\n",
        "ps = WordNetLemmatizer()\n",
        "corpus = []\n",
        "for i in data['title']:\n",
        "  c = re.sub('[^a-z,A-Z]',' ',i).lower().split()\n",
        "  rev = [ps.lemmatize(j, 'v') for j in c if j not in stopwords.words('english')]\n",
        "  corpus.append(' '.join(rev))\n"
      ],
      "execution_count": 39,
      "outputs": []
    },
    {
      "cell_type": "code",
      "metadata": {
        "id": "iY_ckEKmZxzv",
        "colab": {
          "base_uri": "https://localhost:8080/",
          "height": 35
        },
        "outputId": "96a1bcab-50e3-44f4-dc46-cf2a7492f00b"
      },
      "source": [
        "corpus[0]"
      ],
      "execution_count": 40,
      "outputs": [
        {
          "output_type": "execute_result",
          "data": {
            "application/vnd.google.colaboratory.intrinsic+json": {
              "type": "string"
            },
            "text/plain": [
              "'house dem aide even see comey letter jason chaffetz tweet'"
            ]
          },
          "metadata": {
            "tags": []
          },
          "execution_count": 40
        }
      ]
    },
    {
      "cell_type": "code",
      "metadata": {
        "id": "7oDM6DANcVhz",
        "colab": {
          "base_uri": "https://localhost:8080/",
          "height": 35
        },
        "outputId": "71aaf0df-d0ba-4159-e6c3-0d93f401128d"
      },
      "source": [
        "data['title'][0]"
      ],
      "execution_count": 41,
      "outputs": [
        {
          "output_type": "execute_result",
          "data": {
            "application/vnd.google.colaboratory.intrinsic+json": {
              "type": "string"
            },
            "text/plain": [
              "'House Dem Aide: We Didn’t Even See Comey’s Letter Until Jason Chaffetz Tweeted It'"
            ]
          },
          "metadata": {
            "tags": []
          },
          "execution_count": 41
        }
      ]
    },
    {
      "cell_type": "code",
      "metadata": {
        "id": "bn1Z2cAPcnGZ"
      },
      "source": [
        "# One hot representation\n",
        "vocab_size =  10000\n",
        "one_hot_represention = [one_hot(i, vocab_size) for i in corpus]"
      ],
      "execution_count": 42,
      "outputs": []
    },
    {
      "cell_type": "code",
      "metadata": {
        "id": "4XzZJn9PdEPo"
      },
      "source": [
        "# ARRIVING AT THE MAX PADDING NUMBER TO GAIN THE MAXIMUM NUMBER OF LEN FOR ALL THE SENTENCES\n",
        "max_padding = pd.Series([len(i) for i in one_hot_represention]).max()+2"
      ],
      "execution_count": 43,
      "outputs": []
    },
    {
      "cell_type": "code",
      "metadata": {
        "id": "qla0d9mEdFqV"
      },
      "source": [
        "# Pad sequences\n",
        "Padding_embedded_corpus = pad_sequences(one_hot_represention, padding= 'pre', maxlen= max_padding)"
      ],
      "execution_count": 44,
      "outputs": []
    },
    {
      "cell_type": "code",
      "metadata": {
        "id": "YSWXIrkfd9LE",
        "colab": {
          "base_uri": "https://localhost:8080/"
        },
        "outputId": "89eec573-d1bc-4edb-96cb-ccad7c4b3d01"
      },
      "source": [
        "Padding_embedded_corpus"
      ],
      "execution_count": 45,
      "outputs": [
        {
          "output_type": "execute_result",
          "data": {
            "text/plain": [
              "array([[   0,    0,    0, ...,  943,  733, 8590],\n",
              "       [   0,    0,    0, ..., 6844, 5167, 7850],\n",
              "       [   0,    0,    0, ..., 9642, 5943, 6208],\n",
              "       ...,\n",
              "       [   0,    0,    0, ..., 4069, 9548, 9030],\n",
              "       [   0,    0,    0, ..., 9102, 2580, 4890],\n",
              "       [   0,    0,    0, ...,  794, 2590, 8914]], dtype=int32)"
            ]
          },
          "metadata": {
            "tags": []
          },
          "execution_count": 45
        }
      ]
    },
    {
      "cell_type": "code",
      "metadata": {
        "id": "PUcf_agneBx1",
        "colab": {
          "base_uri": "https://localhost:8080/"
        },
        "outputId": "8901c017-e4a3-4734-faa6-45c8db7160f5"
      },
      "source": [
        "# Creating the word embedding represation or Feature Representation and building the LSTM brained RNN\n",
        "dims = 40\n",
        "model = Sequential()\n",
        "model.add(Embedding(vocab_size, input_length= max_padding , output_dim= dims))\n",
        "model.add(LSTM(100, activation= 'elu', recurrent_activation= 'sigmoid'))\n",
        "model.add(Dense(1, activation= 'sigmoid'))\n",
        "model.compile(loss = 'binary_crossentropy', optimizer = 'adam', metrics = ['accuracy'])\n",
        "print(model.summary())"
      ],
      "execution_count": 46,
      "outputs": [
        {
          "output_type": "stream",
          "text": [
            "WARNING:tensorflow:Layer lstm will not use cuDNN kernel since it doesn't meet the cuDNN kernel criteria. It will use generic GPU kernel as fallback when running on GPU\n",
            "Model: \"sequential\"\n",
            "_________________________________________________________________\n",
            "Layer (type)                 Output Shape              Param #   \n",
            "=================================================================\n",
            "embedding (Embedding)        (None, 49, 40)            400000    \n",
            "_________________________________________________________________\n",
            "lstm (LSTM)                  (None, 100)               56400     \n",
            "_________________________________________________________________\n",
            "dense (Dense)                (None, 1)                 101       \n",
            "=================================================================\n",
            "Total params: 456,501\n",
            "Trainable params: 456,501\n",
            "Non-trainable params: 0\n",
            "_________________________________________________________________\n",
            "None\n"
          ],
          "name": "stdout"
        }
      ]
    },
    {
      "cell_type": "code",
      "metadata": {
        "id": "dGZkLqTQiEwz"
      },
      "source": [
        "import numpy as np\n",
        "X = np.array(Padding_embedded_corpus)\n",
        "y = np.array(y)"
      ],
      "execution_count": 47,
      "outputs": []
    },
    {
      "cell_type": "code",
      "metadata": {
        "id": "DwEfi196jzKp"
      },
      "source": [
        "# Train test split\n",
        "from sklearn.model_selection import train_test_split\n",
        "X_train, X_test, y_train, y_test = train_test_split(X,y)"
      ],
      "execution_count": 48,
      "outputs": []
    },
    {
      "cell_type": "code",
      "metadata": {
        "id": "1_FfMAJij91j",
        "colab": {
          "base_uri": "https://localhost:8080/"
        },
        "outputId": "46e14d6f-702b-4dc8-d471-7b9a40af44fe"
      },
      "source": [
        "for i in [X_train, y_train, X_test, y_test]:\n",
        "  print(i.shape)"
      ],
      "execution_count": 49,
      "outputs": [
        {
          "output_type": "stream",
          "text": [
            "(13713, 49)\n",
            "(13713,)\n",
            "(4572, 49)\n",
            "(4572,)\n"
          ],
          "name": "stdout"
        }
      ]
    },
    {
      "cell_type": "code",
      "metadata": {
        "id": "Ii-BSIezkbCP",
        "colab": {
          "base_uri": "https://localhost:8080/"
        },
        "outputId": "099c1a13-4660-4843-a949-2b50b628ea9d"
      },
      "source": [
        "# Model training\n",
        "model.fit(X_train, y_train, validation_data= (X_test, y_test), epochs= 50, batch_size= 64)"
      ],
      "execution_count": 50,
      "outputs": [
        {
          "output_type": "stream",
          "text": [
            "Epoch 1/50\n",
            "215/215 [==============================] - 22s 88ms/step - loss: 0.4756 - accuracy: 0.7359 - val_loss: 0.1824 - val_accuracy: 0.9237\n",
            "Epoch 2/50\n",
            "215/215 [==============================] - 19s 88ms/step - loss: 0.1324 - accuracy: 0.9506 - val_loss: 0.1748 - val_accuracy: 0.9272\n",
            "Epoch 3/50\n",
            "215/215 [==============================] - 19s 86ms/step - loss: 0.0702 - accuracy: 0.9756 - val_loss: 0.1892 - val_accuracy: 0.9283\n",
            "Epoch 4/50\n",
            "215/215 [==============================] - 19s 88ms/step - loss: 0.0391 - accuracy: 0.9866 - val_loss: 0.2398 - val_accuracy: 0.9298\n",
            "Epoch 5/50\n",
            "215/215 [==============================] - 20s 91ms/step - loss: 0.0190 - accuracy: 0.9937 - val_loss: 0.2933 - val_accuracy: 0.9287\n",
            "Epoch 6/50\n",
            "215/215 [==============================] - 20s 91ms/step - loss: 0.0087 - accuracy: 0.9976 - val_loss: 0.4329 - val_accuracy: 0.9250\n",
            "Epoch 7/50\n",
            "215/215 [==============================] - 20s 92ms/step - loss: 0.0042 - accuracy: 0.9990 - val_loss: 0.2977 - val_accuracy: 0.9219\n",
            "Epoch 8/50\n",
            "215/215 [==============================] - 19s 90ms/step - loss: 0.0051 - accuracy: 0.9993 - val_loss: 0.4356 - val_accuracy: 0.9213\n",
            "Epoch 9/50\n",
            "215/215 [==============================] - 19s 87ms/step - loss: 0.0027 - accuracy: 0.9992 - val_loss: 0.4129 - val_accuracy: 0.9215\n",
            "Epoch 10/50\n",
            "215/215 [==============================] - 20s 91ms/step - loss: 0.0012 - accuracy: 0.9999 - val_loss: 0.4974 - val_accuracy: 0.9269\n",
            "Epoch 11/50\n",
            "215/215 [==============================] - 19s 90ms/step - loss: 2.2954e-04 - accuracy: 1.0000 - val_loss: 0.5732 - val_accuracy: 0.9230\n",
            "Epoch 12/50\n",
            "215/215 [==============================] - 20s 91ms/step - loss: 6.4088e-05 - accuracy: 1.0000 - val_loss: 0.6185 - val_accuracy: 0.9237\n",
            "Epoch 13/50\n",
            "215/215 [==============================] - 19s 89ms/step - loss: 4.3810e-05 - accuracy: 1.0000 - val_loss: 0.6802 - val_accuracy: 0.9245\n",
            "Epoch 14/50\n",
            "215/215 [==============================] - 19s 87ms/step - loss: 2.0951e-05 - accuracy: 1.0000 - val_loss: 0.7190 - val_accuracy: 0.9234\n",
            "Epoch 15/50\n",
            "215/215 [==============================] - 19s 87ms/step - loss: 1.1540e-05 - accuracy: 1.0000 - val_loss: 0.7719 - val_accuracy: 0.9226\n",
            "Epoch 16/50\n",
            "215/215 [==============================] - 19s 88ms/step - loss: 7.5648e-06 - accuracy: 1.0000 - val_loss: 0.8034 - val_accuracy: 0.9213\n",
            "Epoch 17/50\n",
            "215/215 [==============================] - 19s 89ms/step - loss: 5.9947e-06 - accuracy: 1.0000 - val_loss: 0.8484 - val_accuracy: 0.9234\n",
            "Epoch 18/50\n",
            "215/215 [==============================] - 19s 88ms/step - loss: 5.5592e-06 - accuracy: 1.0000 - val_loss: 0.8498 - val_accuracy: 0.9224\n",
            "Epoch 19/50\n",
            "215/215 [==============================] - 19s 90ms/step - loss: 3.1535e-06 - accuracy: 1.0000 - val_loss: 0.8442 - val_accuracy: 0.9221\n",
            "Epoch 20/50\n",
            "215/215 [==============================] - 19s 91ms/step - loss: 3.2142e-06 - accuracy: 1.0000 - val_loss: 0.9082 - val_accuracy: 0.9171\n",
            "Epoch 21/50\n",
            "215/215 [==============================] - 20s 92ms/step - loss: 4.9749e-06 - accuracy: 1.0000 - val_loss: 0.8812 - val_accuracy: 0.9213\n",
            "Epoch 22/50\n",
            "215/215 [==============================] - 19s 89ms/step - loss: 2.2125e-06 - accuracy: 1.0000 - val_loss: 0.9698 - val_accuracy: 0.9215\n",
            "Epoch 23/50\n",
            "215/215 [==============================] - 19s 88ms/step - loss: 1.1399e-06 - accuracy: 1.0000 - val_loss: 0.7776 - val_accuracy: 0.9202\n",
            "Epoch 24/50\n",
            "215/215 [==============================] - 19s 88ms/step - loss: 9.2187e-06 - accuracy: 1.0000 - val_loss: 0.8711 - val_accuracy: 0.9219\n",
            "Epoch 25/50\n",
            "215/215 [==============================] - 19s 88ms/step - loss: 1.9349e-06 - accuracy: 1.0000 - val_loss: 0.9407 - val_accuracy: 0.9217\n",
            "Epoch 26/50\n",
            "215/215 [==============================] - 20s 91ms/step - loss: 1.1688e-06 - accuracy: 1.0000 - val_loss: 1.0047 - val_accuracy: 0.9208\n",
            "Epoch 27/50\n",
            "215/215 [==============================] - 19s 87ms/step - loss: 6.0873e-06 - accuracy: 1.0000 - val_loss: 0.8772 - val_accuracy: 0.9232\n",
            "Epoch 28/50\n",
            "215/215 [==============================] - 19s 88ms/step - loss: 1.2298e-06 - accuracy: 1.0000 - val_loss: 1.0005 - val_accuracy: 0.9213\n",
            "Epoch 29/50\n",
            "215/215 [==============================] - 20s 91ms/step - loss: 6.2164e-07 - accuracy: 1.0000 - val_loss: 1.0890 - val_accuracy: 0.9213\n",
            "Epoch 30/50\n",
            "215/215 [==============================] - 20s 93ms/step - loss: 3.0240e-07 - accuracy: 1.0000 - val_loss: 1.0717 - val_accuracy: 0.9208\n",
            "Epoch 31/50\n",
            "215/215 [==============================] - 20s 91ms/step - loss: 2.9464e-07 - accuracy: 1.0000 - val_loss: 1.1334 - val_accuracy: 0.9228\n",
            "Epoch 32/50\n",
            "215/215 [==============================] - 18s 85ms/step - loss: 1.6230e-07 - accuracy: 1.0000 - val_loss: 1.1817 - val_accuracy: 0.9243\n",
            "Epoch 33/50\n",
            "215/215 [==============================] - 19s 88ms/step - loss: 1.4956e-07 - accuracy: 1.0000 - val_loss: 1.1801 - val_accuracy: 0.9210\n",
            "Epoch 34/50\n",
            "215/215 [==============================] - 19s 88ms/step - loss: 1.1045e-07 - accuracy: 1.0000 - val_loss: 1.2203 - val_accuracy: 0.9210\n",
            "Epoch 35/50\n",
            "215/215 [==============================] - 19s 87ms/step - loss: 7.2628e-08 - accuracy: 1.0000 - val_loss: 1.1955 - val_accuracy: 0.9215\n",
            "Epoch 36/50\n",
            "215/215 [==============================] - 19s 88ms/step - loss: 0.0159 - accuracy: 0.9980 - val_loss: 0.3048 - val_accuracy: 0.9254\n",
            "Epoch 37/50\n",
            "215/215 [==============================] - 19s 90ms/step - loss: 0.0444 - accuracy: 0.9846 - val_loss: 0.3207 - val_accuracy: 0.9237\n",
            "Epoch 38/50\n",
            "215/215 [==============================] - 20s 91ms/step - loss: 0.0103 - accuracy: 0.9973 - val_loss: 0.3991 - val_accuracy: 0.9199\n",
            "Epoch 39/50\n",
            "215/215 [==============================] - 19s 90ms/step - loss: 0.0015 - accuracy: 1.0000 - val_loss: 0.4697 - val_accuracy: 0.9206\n",
            "Epoch 40/50\n",
            "215/215 [==============================] - 19s 87ms/step - loss: 4.8403e-04 - accuracy: 1.0000 - val_loss: 0.5487 - val_accuracy: 0.9189\n",
            "Epoch 41/50\n",
            "215/215 [==============================] - 18s 85ms/step - loss: 1.7282e-04 - accuracy: 1.0000 - val_loss: 0.6060 - val_accuracy: 0.9191\n",
            "Epoch 42/50\n",
            "215/215 [==============================] - 20s 91ms/step - loss: 1.0750e-04 - accuracy: 1.0000 - val_loss: 0.6421 - val_accuracy: 0.9195\n",
            "Epoch 43/50\n",
            "215/215 [==============================] - 19s 87ms/step - loss: 6.3518e-05 - accuracy: 1.0000 - val_loss: 0.6660 - val_accuracy: 0.9202\n",
            "Epoch 44/50\n",
            "215/215 [==============================] - 19s 90ms/step - loss: 4.6256e-05 - accuracy: 1.0000 - val_loss: 0.7089 - val_accuracy: 0.9184\n",
            "Epoch 45/50\n",
            "215/215 [==============================] - 20s 91ms/step - loss: 3.0312e-05 - accuracy: 1.0000 - val_loss: 0.7541 - val_accuracy: 0.9178\n",
            "Epoch 46/50\n",
            "215/215 [==============================] - 19s 89ms/step - loss: 2.5543e-05 - accuracy: 1.0000 - val_loss: 0.7859 - val_accuracy: 0.9189\n",
            "Epoch 47/50\n",
            "215/215 [==============================] - 19s 87ms/step - loss: 1.5278e-05 - accuracy: 1.0000 - val_loss: 0.8347 - val_accuracy: 0.9186\n",
            "Epoch 48/50\n",
            "215/215 [==============================] - 19s 86ms/step - loss: 1.0566e-05 - accuracy: 1.0000 - val_loss: 0.8589 - val_accuracy: 0.9191\n",
            "Epoch 49/50\n",
            "215/215 [==============================] - 19s 88ms/step - loss: 7.6354e-06 - accuracy: 1.0000 - val_loss: 0.9123 - val_accuracy: 0.9193\n",
            "Epoch 50/50\n",
            "215/215 [==============================] - 19s 88ms/step - loss: 7.5830e-06 - accuracy: 1.0000 - val_loss: 0.9494 - val_accuracy: 0.9184\n"
          ],
          "name": "stdout"
        },
        {
          "output_type": "execute_result",
          "data": {
            "text/plain": [
              "<tensorflow.python.keras.callbacks.History at 0x7fb2f03fce48>"
            ]
          },
          "metadata": {
            "tags": []
          },
          "execution_count": 50
        }
      ]
    },
    {
      "cell_type": "code",
      "metadata": {
        "id": "oc2d7iW5k5QQ",
        "colab": {
          "base_uri": "https://localhost:8080/"
        },
        "outputId": "99e1c628-f310-495d-84ed-be1c72329f2a"
      },
      "source": [
        "y_pred = model.predict_classes(X_test)"
      ],
      "execution_count": 51,
      "outputs": [
        {
          "output_type": "stream",
          "text": [
            "/usr/local/lib/python3.6/dist-packages/tensorflow/python/keras/engine/sequential.py:450: UserWarning: `model.predict_classes()` is deprecated and will be removed after 2021-01-01. Please use instead:* `np.argmax(model.predict(x), axis=-1)`,   if your model does multi-class classification   (e.g. if it uses a `softmax` last-layer activation).* `(model.predict(x) > 0.5).astype(\"int32\")`,   if your model does binary classification   (e.g. if it uses a `sigmoid` last-layer activation).\n",
            "  warnings.warn('`model.predict_classes()` is deprecated and '\n"
          ],
          "name": "stderr"
        }
      ]
    },
    {
      "cell_type": "code",
      "metadata": {
        "id": "mzF5FUtwlnyR"
      },
      "source": [
        "from sklearn.metrics import confusion_matrix, classification_report, accuracy_score"
      ],
      "execution_count": 52,
      "outputs": []
    },
    {
      "cell_type": "code",
      "metadata": {
        "id": "BEBY258IlvCL",
        "colab": {
          "base_uri": "https://localhost:8080/"
        },
        "outputId": "b762da6f-377c-445b-cacc-3e6a16a0c35d"
      },
      "source": [
        "confusion_matrix(y_test, y_pred)"
      ],
      "execution_count": 53,
      "outputs": [
        {
          "output_type": "execute_result",
          "data": {
            "text/plain": [
              "array([[2352,  201],\n",
              "       [ 172, 1847]])"
            ]
          },
          "metadata": {
            "tags": []
          },
          "execution_count": 53
        }
      ]
    },
    {
      "cell_type": "code",
      "metadata": {
        "id": "UrZr5Tpwly3P",
        "colab": {
          "base_uri": "https://localhost:8080/"
        },
        "outputId": "efd15d89-d520-4654-a10c-0d971c8290c5"
      },
      "source": [
        "accuracy_score(y_test, y_pred)"
      ],
      "execution_count": 54,
      "outputs": [
        {
          "output_type": "execute_result",
          "data": {
            "text/plain": [
              "0.918416447944007"
            ]
          },
          "metadata": {
            "tags": []
          },
          "execution_count": 54
        }
      ]
    },
    {
      "cell_type": "code",
      "metadata": {
        "id": "dNsQMu6Ql5NC",
        "colab": {
          "base_uri": "https://localhost:8080/",
          "height": 265
        },
        "outputId": "c58cfb9d-83e8-4fae-ee9d-3f26957e790f"
      },
      "source": [
        "cm = (confusion_matrix(y_pred, y_test)*100/X_test.shape[0]).round(0)\r\n",
        "sns.heatmap(cm, annot = True)\r\n",
        "plt.show()"
      ],
      "execution_count": 55,
      "outputs": [
        {
          "output_type": "display_data",
          "data": {
            "image/png": "[encoded data removed]",
            "text/plain": [
              "<Figure size 432x288 with 2 Axes>"
            ]
          },
          "metadata": {
            "tags": [],
            "needs_background": "light"
          }
        }
      ]
    },
    {
      "cell_type": "code",
      "metadata": {
        "id": "NJWOOnGu5akv"
      },
      "source": [
        ""
      ],
      "execution_count": null,
      "outputs": []
    }
  ]
}